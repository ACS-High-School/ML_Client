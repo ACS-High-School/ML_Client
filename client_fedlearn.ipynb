{
 "cells": [
  {
   "cell_type": "markdown",
   "id": "8df205b3-85e7-4b16-ba90-eb2adfd477e7",
   "metadata": {},
   "source": [
    "# Federated Learning Lab for Client"
   ]
  },
  {
   "cell_type": "markdown",
   "id": "fc5ee9f3-1cf2-4077-8653-c2aec6ad7c7d",
   "metadata": {},
   "source": [
    "### STEP 0. Load packages\n",
    "- b3o-fedlearn 패키지는 B3O 팀이 개발한 연합학습을 지원하는 도구입니다.\n",
    "- 패키지의 세부 사항과 사용 방법에 대한 더 많은 정보는 https://pypi.org/project/b3o-fedlearn/ 에서 확인하실 수 있습니다."
   ]
  },
  {
   "cell_type": "code",
   "execution_count": null,
   "id": "47a0c281-3d59-4c42-99f8-af140d131ce3",
   "metadata": {},
   "outputs": [],
   "source": [
    "from b3o_fedlearn import client_setup\n",
    "from b3o_fedlearn import data_processing\n",
    "from b3o_fedlearn import fedlearner\n",
    "\n",
    "config_client = './client_repo/client_config.json'\n",
    "file_path = './client_repo/train.csv'"
   ]
  },
  {
   "cell_type": "markdown",
   "id": "a2957275-dbf6-499e-9a40-0e19386183ff",
   "metadata": {},
   "source": [
    "### STEP 1. Settings\n",
    "- 아래 코드를 실행하면 다음의 폴더가 생성됩니다.\n",
    "- client_repo : 연합학습 진행을 위한 config 파일과 model 정보가 존재합니다.\n",
    "- models : 학습된 모델의 가중치 파일이 존재합니다."
   ]
  },
  {
   "cell_type": "code",
   "execution_count": null,
   "id": "7ecf5ffb-43d2-4553-b398-4429902bd55a",
   "metadata": {},
   "outputs": [],
   "source": [
    "client_setup.setup()"
   ]
  },
  {
   "cell_type": "markdown",
   "id": "c3135cdf-1bd6-4545-9abc-9ee58d51b0e7",
   "metadata": {},
   "source": [
    "### STEP 2. Define model.py\n",
    "- 연합학습에서 사용할 model을 정의해주세요.\n",
    "- 주석 처리된 Write your model code 내부에 작성해주세요.\n",
    "- 아래 코드는 예시 입니다."
   ]
  },
  {
   "cell_type": "code",
   "execution_count": null,
   "id": "0d907a21-4d9a-4145-bcb5-be9b2bfabdfc",
   "metadata": {},
   "outputs": [],
   "source": [
    "%%writefile client_repo/MODEL.py\n",
    "import tensorflow as tf\n",
    "\n",
    "class MLMODEL:\n",
    "    def __init__(self):\n",
    "        ########################################################################\n",
    "        ## Write your model code\n",
    "        self.model = tf.keras.models.Sequential([\n",
    "            tf.keras.layers.BatchNormalization(input_shape=[12]),\n",
    "            tf.keras.layers.Dense(128, activation='relu', use_bias=True),\n",
    "            tf.keras.layers.Dense(64, activation='leaky_relu', use_bias=True),\n",
    "            tf.keras.layers.Dense(32, activation='relu', use_bias=True),\n",
    "            tf.keras.layers.Dense(1, activation='sigmoid', use_bias=True)\n",
    "        ])\n",
    "        self.model.compile(\n",
    "            optimizer=tf.keras.optimizers.SGD(),\n",
    "            loss='binary_crossentropy',\n",
    "            metrics=['binary_accuracy']\n",
    "        )\n",
    "        ########################################################################\n",
    "\n",
    "    def getModel(self):\n",
    "        return self.model"
   ]
  },
  {
   "cell_type": "markdown",
   "id": "e51740e1-ccf0-43aa-a5e4-1aa04df1fca1",
   "metadata": {},
   "source": [
    "### STEP 3. Upload your train.csv\n",
    "- client_repo 폴더 내 학습 데이터를 업로드 해주세요.\n",
    "- 파일명은 반드시 train.csv 이어야 합니다."
   ]
  },
  {
   "cell_type": "markdown",
   "id": "8992f6c9-e1f0-4231-b237-11f43536b370",
   "metadata": {},
   "source": [
    "### STEP 4. Write your member ID and train target name\n",
    "- member_ID : member ID를 작성해주세요.\n",
    "- target_col : 예측할 target column 명을 작성해주세요."
   ]
  },
  {
   "cell_type": "code",
   "execution_count": null,
   "id": "a945e827-c0bd-4ad7-aa29-af6ba6678b13",
   "metadata": {},
   "outputs": [],
   "source": [
    "target_col = ### Write your model code\n",
    "member_ID = ### Write your model code"
   ]
  },
  {
   "cell_type": "markdown",
   "id": "19cb8f09-c51a-4b39-bc73-19a9c9ee3329",
   "metadata": {},
   "source": [
    "### STEP 5. Run Data processing\n",
    "- 아래 코드를 실행하여 데이터 셋을 생성해주세요."
   ]
  },
  {
   "cell_type": "code",
   "execution_count": null,
   "id": "9788481e-3cb8-48ee-ab01-cc5e70def219",
   "metadata": {},
   "outputs": [],
   "source": [
    "x_train_client, y_train_client, x_test_client, y_test_client = data_processing.input_fn(file_path, target_col=target_col)"
   ]
  },
  {
   "cell_type": "markdown",
   "id": "29cd10b8-0f0d-4019-8150-f171e0e7ddb0",
   "metadata": {},
   "source": [
    "### STEP 6. Run Federated learning\n",
    "- 아래 코드를 실행하여 연합학습을 시작합니다."
   ]
  },
  {
   "cell_type": "code",
   "execution_count": null,
   "id": "e0602d80-df2e-4998-bef5-f48a0fdeb122",
   "metadata": {},
   "outputs": [],
   "source": [
    "fedlearner.FL_start(member_ID, config_client, x_train_client, y_train_client, x_test_client, y_test_client)"
   ]
  }
 ],
 "metadata": {
  "kernelspec": {
   "display_name": "Python 3 (ipykernel)",
   "language": "python",
   "name": "python3"
  },
  "language_info": {
   "codemirror_mode": {
    "name": "ipython",
    "version": 3
   },
   "file_extension": ".py",
   "mimetype": "text/x-python",
   "name": "python",
   "nbconvert_exporter": "python",
   "pygments_lexer": "ipython3",
   "version": "3.10.13"
  }
 },
 "nbformat": 4,
 "nbformat_minor": 5
}
